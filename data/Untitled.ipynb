{
 "cells": [
  {
   "cell_type": "code",
   "execution_count": 1,
   "metadata": {
    "collapsed": true
   },
   "outputs": [],
   "source": [
    "import pandas as pd\n",
    "import numpy as np"
   ]
  },
  {
   "cell_type": "code",
   "execution_count": 2,
   "metadata": {
    "collapsed": true
   },
   "outputs": [],
   "source": [
    "partidas_df = pd.read_csv('2017_partidas.csv')"
   ]
  },
  {
   "cell_type": "code",
   "execution_count": 3,
   "metadata": {},
   "outputs": [
    {
     "data": {
      "text/html": [
       "<div>\n",
       "<style>\n",
       "    .dataframe thead tr:only-child th {\n",
       "        text-align: right;\n",
       "    }\n",
       "\n",
       "    .dataframe thead th {\n",
       "        text-align: left;\n",
       "    }\n",
       "\n",
       "    .dataframe tbody tr th {\n",
       "        vertical-align: top;\n",
       "    }\n",
       "</style>\n",
       "<table border=\"1\" class=\"dataframe\">\n",
       "  <thead>\n",
       "    <tr style=\"text-align: right;\">\n",
       "      <th></th>\n",
       "      <th>rodada_id</th>\n",
       "      <th>clube_casa_id</th>\n",
       "      <th>clube_visitante_id</th>\n",
       "      <th>clube_casa_posicao</th>\n",
       "      <th>clube_visitante_posicao</th>\n",
       "      <th>aproveitamento_mandante</th>\n",
       "      <th>aproveitamento_visitante</th>\n",
       "      <th>placar_oficial_mandante</th>\n",
       "      <th>placar_oficial_visitante</th>\n",
       "      <th>partida_data</th>\n",
       "      <th>local</th>\n",
       "      <th>valida</th>\n",
       "    </tr>\n",
       "  </thead>\n",
       "  <tbody>\n",
       "    <tr>\n",
       "      <th>100</th>\n",
       "      <td>11</td>\n",
       "      <td>266</td>\n",
       "      <td>315</td>\n",
       "      <td>6</td>\n",
       "      <td>15</td>\n",
       "      <td>devee</td>\n",
       "      <td>vddde</td>\n",
       "      <td>3.0</td>\n",
       "      <td>3.0</td>\n",
       "      <td>2017-07-03 20:00:00</td>\n",
       "      <td>Giulite Coutinho</td>\n",
       "      <td>True</td>\n",
       "    </tr>\n",
       "    <tr>\n",
       "      <th>71</th>\n",
       "      <td>8</td>\n",
       "      <td>267</td>\n",
       "      <td>314</td>\n",
       "      <td>7</td>\n",
       "      <td>20</td>\n",
       "      <td>ddvdv</td>\n",
       "      <td>vdedd</td>\n",
       "      <td>1.0</td>\n",
       "      <td>0.0</td>\n",
       "      <td>2017-06-17 19:00:00</td>\n",
       "      <td>São Januário</td>\n",
       "      <td>True</td>\n",
       "    </tr>\n",
       "    <tr>\n",
       "      <th>92</th>\n",
       "      <td>10</td>\n",
       "      <td>277</td>\n",
       "      <td>292</td>\n",
       "      <td>5</td>\n",
       "      <td>15</td>\n",
       "      <td>vvevd</td>\n",
       "      <td>dedev</td>\n",
       "      <td>0.0</td>\n",
       "      <td>1.0</td>\n",
       "      <td>2017-06-24 19:00:00</td>\n",
       "      <td>Vila Belmiro</td>\n",
       "      <td>True</td>\n",
       "    </tr>\n",
       "    <tr>\n",
       "      <th>197</th>\n",
       "      <td>20</td>\n",
       "      <td>287</td>\n",
       "      <td>314</td>\n",
       "      <td>18</td>\n",
       "      <td>19</td>\n",
       "      <td>ddevv</td>\n",
       "      <td>evdde</td>\n",
       "      <td>NaN</td>\n",
       "      <td>NaN</td>\n",
       "      <td>2017-08-12 19:00:00</td>\n",
       "      <td>Barradão</td>\n",
       "      <td>True</td>\n",
       "    </tr>\n",
       "    <tr>\n",
       "      <th>61</th>\n",
       "      <td>7</td>\n",
       "      <td>262</td>\n",
       "      <td>303</td>\n",
       "      <td>7</td>\n",
       "      <td>10</td>\n",
       "      <td>eedev</td>\n",
       "      <td>evdvd</td>\n",
       "      <td>2.0</td>\n",
       "      <td>0.0</td>\n",
       "      <td>2017-06-14 21:00:00</td>\n",
       "      <td>Luso-Brasileiro</td>\n",
       "      <td>True</td>\n",
       "    </tr>\n",
       "  </tbody>\n",
       "</table>\n",
       "</div>"
      ],
      "text/plain": [
       "     rodada_id  clube_casa_id  clube_visitante_id  clube_casa_posicao  \\\n",
       "100         11            266                 315                   6   \n",
       "71           8            267                 314                   7   \n",
       "92          10            277                 292                   5   \n",
       "197         20            287                 314                  18   \n",
       "61           7            262                 303                   7   \n",
       "\n",
       "     clube_visitante_posicao aproveitamento_mandante aproveitamento_visitante  \\\n",
       "100                       15                   devee                    vddde   \n",
       "71                        20                   ddvdv                    vdedd   \n",
       "92                        15                   vvevd                    dedev   \n",
       "197                       19                   ddevv                    evdde   \n",
       "61                        10                   eedev                    evdvd   \n",
       "\n",
       "     placar_oficial_mandante  placar_oficial_visitante         partida_data  \\\n",
       "100                      3.0                       3.0  2017-07-03 20:00:00   \n",
       "71                       1.0                       0.0  2017-06-17 19:00:00   \n",
       "92                       0.0                       1.0  2017-06-24 19:00:00   \n",
       "197                      NaN                       NaN  2017-08-12 19:00:00   \n",
       "61                       2.0                       0.0  2017-06-14 21:00:00   \n",
       "\n",
       "                local  valida  \n",
       "100  Giulite Coutinho    True  \n",
       "71       São Januário    True  \n",
       "92       Vila Belmiro    True  \n",
       "197          Barradão    True  \n",
       "61    Luso-Brasileiro    True  "
      ]
     },
     "execution_count": 3,
     "metadata": {},
     "output_type": "execute_result"
    }
   ],
   "source": [
    "partidas_df.sample(5)"
   ]
  },
  {
   "cell_type": "code",
   "execution_count": 9,
   "metadata": {},
   "outputs": [],
   "source": [
    "pd.DataFrame(partidas_df.groupby(['clube_casa_id'])['placar_oficial_mandante'].sum()).to_csv(\"teste.csv\")"
   ]
  },
  {
   "cell_type": "code",
   "execution_count": 10,
   "metadata": {
    "collapsed": true
   },
   "outputs": [],
   "source": [
    "pd.DataFrame(partidas_df.groupby(['clube_visitante_id'])['placar_oficial_visitante'].sum()).to_csv(\"teste2.csv\")"
   ]
  },
  {
   "cell_type": "code",
   "execution_count": null,
   "metadata": {
    "collapsed": true
   },
   "outputs": [],
   "source": []
  }
 ],
 "metadata": {
  "kernelspec": {
   "display_name": "Python 3",
   "language": "python",
   "name": "python3"
  },
  "language_info": {
   "codemirror_mode": {
    "name": "ipython",
    "version": 3
   },
   "file_extension": ".py",
   "mimetype": "text/x-python",
   "name": "python",
   "nbconvert_exporter": "python",
   "pygments_lexer": "ipython3",
   "version": "3.6.1"
  }
 },
 "nbformat": 4,
 "nbformat_minor": 2
}
